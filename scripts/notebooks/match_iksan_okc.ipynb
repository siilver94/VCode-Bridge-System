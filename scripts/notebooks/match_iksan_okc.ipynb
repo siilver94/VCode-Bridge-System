{
 "cells": [
  {
   "cell_type": "code",
   "execution_count": 7,
   "id": "f98e8d27-5e24-4052-b0e9-ef4ad58021d0",
   "metadata": {},
   "outputs": [],
   "source": [
    "\"\"\"\n",
    "match_iksan_okc.py\n",
    "  • parsed_parts.csv   : 파서 결과 (IK / OK)\n",
    "  • Cross_Map.csv      : 품명군 매핑 규칙\n",
    "출력\n",
    "  • matched_parts.csv  : 익산 ↔ 옥천 품번 매칭 결과\n",
    "\"\"\"\n",
    "\n",
    "import pandas as pd\n",
    "from pathlib import Path"
   ]
  },
  {
   "cell_type": "code",
   "execution_count": 8,
   "id": "8b18fe69-4c00-4da9-a86f-3b551f318204",
   "metadata": {},
   "outputs": [],
   "source": [
    "# ── 파일 경로 ────────────────────────────────────────────────\n",
    "BASE_DIR = Path.cwd().parent\n",
    "\n",
    "PP_CSV   = BASE_DIR / \"data\" / 'parsed_parts.csv'\n",
    "XMAP_CSV = BASE_DIR / \"data\" / 'Cross_Map.csv'\n",
    "OUT_CSV  = BASE_DIR / \"data\" / 'matched_parts.csv'"
   ]
  },
  {
   "cell_type": "code",
   "execution_count": 9,
   "id": "249614fb-1aba-4954-9bcb-d5f4de4ef0a5",
   "metadata": {},
   "outputs": [],
   "source": [
    "# ── 1. 데이터 적재 ───────────────────────────────────────────\n",
    "parts = pd.read_csv(PP_CSV, dtype=str, encoding = 'cp949').fillna('')\n",
    "xmap  = pd.read_csv(XMAP_CSV, dtype=str).fillna('')\n",
    "\n",
    "# 익산 / 옥천 분리\n",
    "ik = parts[parts.system == 'IK'].copy()\n",
    "ok = parts[parts.system == 'OK'].copy()"
   ]
  },
  {
   "cell_type": "code",
   "execution_count": 10,
   "id": "d3a29d89-5123-490c-9165-1dd0ac394134",
   "metadata": {},
   "outputs": [],
   "source": [
    "def attach_km(df_ik, xmap_df):\n",
    "    rows = []\n",
    "    for _, r in df_ik.iterrows():\n",
    "        cond = (\n",
    "            (xmap_df.ik_part_type == r.part_type) &\n",
    "            ((xmap_df.ik_grade_code == '') | (xmap_df.ik_grade_code == r.grade_code)) &\n",
    "            ((xmap_df.ik_seal_code  == '') | (xmap_df.ik_seal_code  == r.seal_snap_code))\n",
    "        )\n",
    "        hit = xmap_df[cond]\n",
    "        km  = hit.ok_km_code.iloc[0] if not hit.empty else ''\n",
    "        note= hit.note.iloc[0]       if not hit.empty else ''\n",
    "        rows.append({**r, 'ok_km_code': km, 'map_note': note})\n",
    "    return pd.DataFrame(rows)\n",
    "\n",
    "ik_map = attach_km(ik, xmap)"
   ]
  },
  {
   "cell_type": "code",
   "execution_count": 11,
   "id": "afa4129b-4578-44c1-b5fe-65e6e631db42",
   "metadata": {},
   "outputs": [
    {
     "name": "stdout",
     "output_type": "stream",
     "text": [
      "✅ 매칭 완료 → C:\\Users\\Allen\\Desktop\\Project\\TYM\\V_CODE\\data\\matched_parts.csv  (총 6행)\n"
     ]
    }
   ],
   "source": [
    "# ── 2) 옥천 품명군과 단순 Join (part_type = ok_km_code)\n",
    "merged = ik_map.merge(\n",
    "    ok[['part_type','remark']],          # 옥천에 있는 추가 정보 원하면 더 붙일 수 있음\n",
    "    left_on='ok_km_code', right_on='part_type',\n",
    "    how='left', suffixes=('_IK','_OK')\n",
    ")\n",
    "\n",
    "merged['match_flag'] = merged.part_type_OK.where(\n",
    "    merged.part_type_OK.notna(), 'NO_MATCH')\n",
    "\n",
    "merged.to_csv(OUT_CSV, index=False, encoding='cp949')\n",
    "print(f\"✅ 매칭 완료 → {OUT_CSV}  (총 {len(merged)}행)\")"
   ]
  },
  {
   "cell_type": "code",
   "execution_count": null,
   "id": "e46d2141-9712-48d6-917c-cd5c8fb3954d",
   "metadata": {},
   "outputs": [],
   "source": []
  },
  {
   "cell_type": "code",
   "execution_count": null,
   "id": "c99136d7-6302-4ae7-95fb-b54a3cc7ca5d",
   "metadata": {},
   "outputs": [],
   "source": []
  },
  {
   "cell_type": "code",
   "execution_count": null,
   "id": "ac5aceaf-b57a-4938-adf5-256acb4123ea",
   "metadata": {},
   "outputs": [],
   "source": []
  },
  {
   "cell_type": "code",
   "execution_count": null,
   "id": "9dd72bf3-ddfa-4baa-8ef0-cfd14f9657de",
   "metadata": {},
   "outputs": [],
   "source": []
  },
  {
   "cell_type": "code",
   "execution_count": null,
   "id": "20286744-16e0-48f4-ad7f-3cedf44cb50e",
   "metadata": {},
   "outputs": [],
   "source": []
  },
  {
   "cell_type": "code",
   "execution_count": null,
   "id": "26184956-071a-48b5-b5a9-3caa8b5d86b1",
   "metadata": {},
   "outputs": [],
   "source": []
  }
 ],
 "metadata": {
  "kernelspec": {
   "display_name": "vcode_app",
   "language": "python",
   "name": "vcode_app"
  },
  "language_info": {
   "codemirror_mode": {
    "name": "ipython",
    "version": 3
   },
   "file_extension": ".py",
   "mimetype": "text/x-python",
   "name": "python",
   "nbconvert_exporter": "python",
   "pygments_lexer": "ipython3",
   "version": "3.11.13"
  },
  "widgets": {
   "application/vnd.jupyter.widget-state+json": {
    "state": {},
    "version_major": 2,
    "version_minor": 0
   }
  }
 },
 "nbformat": 4,
 "nbformat_minor": 5
}
