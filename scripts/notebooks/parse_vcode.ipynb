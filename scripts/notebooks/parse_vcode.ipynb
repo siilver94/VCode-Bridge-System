{
 "cells": [
  {
   "cell_type": "code",
   "execution_count": 2,
   "id": "f0d899dc-3021-4850-b950-20f251f096eb",
   "metadata": {},
   "outputs": [],
   "source": [
    "\"\"\"\n",
    "parse_vcode.py  (두 시스템 & part_type 전용 master 대응)\n",
    "\n",
    "1. codeSchema_IK.csv / codeSchema_OK.csv  : 자리수 규칙\n",
    "2. material_lookup.csv · surface_lookup.csv · … : 룩업\n",
    "3. part_master.csv  : site + part_type  (11자리 품번 없음)\n",
    "\n",
    "출력:\n",
    "    parsed_parts.csv  –  규칙 메타 + 스키마 있음/없음 플래그\n",
    "\"\"\"\n",
    "\n",
    "import pandas as pd\n",
    "from pathlib import Path\n",
    "import os"
   ]
  },
  {
   "cell_type": "code",
   "execution_count": 3,
   "id": "b2e26bf6-2302-4a1c-9b05-1ba75a4c6728",
   "metadata": {},
   "outputs": [
    {
     "name": "stdout",
     "output_type": "stream",
     "text": [
      "C:\\Users\\Allen\\Desktop\\Project\\TYM\\V_CODE\\notebooks\n"
     ]
    }
   ],
   "source": [
    "print(os.getcwd())"
   ]
  },
  {
   "cell_type": "code",
   "execution_count": 4,
   "id": "57221b90-1fbe-484b-866a-389815625d5d",
   "metadata": {},
   "outputs": [],
   "source": [
    "# ── 0. 경로 정의 ──────────────────────────────────────────────\n",
    "\n",
    "BASE_DIR = Path(r\"C:\\Users\\Allen\\Desktop\\Project\\TYM\\V_CODE\")\n",
    "\n",
    "SCHEMA_IK = BASE_DIR / \"data\" / \"codeSchema_IK.csv\"\n",
    "SCHEMA_OK = BASE_DIR / \"data\" / \"codeSchema_OK.csv\"\n",
    "\n",
    "\n",
    "LOOKUP_FILES = {\n",
    "    'material_lookup':     BASE_DIR / \"data\" / \"material_lookup.csv\",\n",
    "    'surface_lookup':      BASE_DIR / \"data\" / \"surface_lookup.csv\",\n",
    "    'grade_lookup':        BASE_DIR / \"data\" / \"grade_lookup.csv\",\n",
    "    'seal_lookup':         BASE_DIR / \"data\" / \"seal_lookup.csv\",\n",
    "    'designation_lookup':  BASE_DIR / \"data\" / \"designation_lookup.csv\",\n",
    "    'screw_tolerance_lookup':     BASE_DIR / \"data\" / \"screw_tolerance_lookup.csv\",\n",
    "    'type_assembly_lookup':BASE_DIR / \"data\" / \"type_assembly_lookup.csv\",\n",
    "}\n",
    "\n",
    "PART_CSV  = BASE_DIR / \"data\" / \"part_master.csv\"\n",
    "OUT_CSV   = BASE_DIR / \"data\" / \"parsed_parts.csv\""
   ]
  },
  {
   "cell_type": "code",
   "execution_count": 5,
   "id": "766895d1-ce7e-450e-a9a3-30d049f5428a",
   "metadata": {},
   "outputs": [],
   "source": [
    "# ── 1. 스키마 로드 (시스템별) ─────────────────────────────────\n",
    "schema_ik = pd.read_csv(SCHEMA_IK)\n",
    "schema_ok = pd.read_csv(SCHEMA_OK)"
   ]
  },
  {
   "cell_type": "code",
   "execution_count": 6,
   "id": "dc053b0b-f4ef-457a-8337-15ef1fa5a890",
   "metadata": {},
   "outputs": [],
   "source": [
    "# ── 2. 룩업 dict 로드 공통 함수 ──────────────────────────────\n",
    "def build_lookup(csv: Path, value_col: str):\n",
    "    df = pd.read_csv(csv, dtype=str).fillna('')\n",
    "    spec = df[df.part_type != '*'].set_index(['part_type','code'])[value_col].to_dict()\n",
    "    common = df[df.part_type == '*'].set_index('code')[value_col].to_dict()\n",
    "    return spec, common\n",
    "\n",
    "LOOKUP_MAP = {}           # {'material': (spec, common), ...}\n",
    "\n",
    "for name, path in LOOKUP_FILES.items():\n",
    "    col = [c for c in pd.read_csv(path, nrows=1).columns if c not in ('part_type','code')][0]\n",
    "    LOOKUP_MAP[name] = build_lookup(path, col)\n",
    "\n",
    "def lookup(table_name:str, ptype:str, token:str):\n",
    "    spec, common = LOOKUP_MAP[table_name]\n",
    "    return spec.get((ptype, token)) or common.get(token) or f'UNKNOWN({token})'"
   ]
  },
  {
   "cell_type": "code",
   "execution_count": 7,
   "id": "e6b56305-0afb-4bfb-bdf6-8863c46e2f0e",
   "metadata": {
    "scrolled": true
   },
   "outputs": [],
   "source": [
    "# ── 3. part_master 로드 ─────────────────────────────────────\n",
    "pm = pd.read_csv(PART_CSV, dtype=str)\n",
    "pm['system'] = pm['part_type'].str.startswith('V').map({True:'IK', False:'OK'})\n",
    "\n",
    "# 데이터 불일치를 공백 제거와 모두 문자열로 변\n",
    "pm['part_type'] = pm['part_type'].astype(str).str.strip()\n",
    "schema_ok['part_type'] = schema_ok['part_type'].astype(str).str.strip()"
   ]
  },
  {
   "cell_type": "code",
   "execution_count": 8,
   "id": "5b610735-1d04-451e-a652-cda756410e65",
   "metadata": {},
   "outputs": [],
   "source": [
    "# ── 4. 파싱 (part_type 수준 – 11자리 없음) ───────────────────\n",
    "rows = []\n",
    "for _, row in pm.iterrows():\n",
    "    ptype   = row.part_type\n",
    "    system  = row.system\n",
    "    rules   = schema_ik if system=='IK' else schema_ok\n",
    "    rules   = rules[rules.part_type == ptype]\n",
    "\n",
    "    if rules.empty:\n",
    "        rows.append({**row.to_dict(), '_parse_error': f'NO_SCHEMA({ptype})'})\n",
    "        continue\n",
    "\n",
    "    parsed = row.to_dict()\n",
    "    for _, r in rules.iterrows():\n",
    "        # 자리 토큰이 없으므로 '가능 코드 집합'만 표시\n",
    "        table = r.lookup_table\n",
    "        if table in LOOKUP_MAP:\n",
    "            parsed[r.attr_name] = '|'.join(\n",
    "                sorted({k[1] for k in LOOKUP_MAP[table][0].keys() if k[0]==ptype} |\n",
    "                       set(LOOKUP_MAP[table][1].keys()))\n",
    "            )\n",
    "        else:\n",
    "            parsed[r.attr_name] = '(free)'\n",
    "    rows.append(parsed)"
   ]
  },
  {
   "cell_type": "code",
   "execution_count": 13,
   "id": "32126298-ce26-43ca-b891-ba748e19bba6",
   "metadata": {},
   "outputs": [
    {
     "name": "stdout",
     "output_type": "stream",
     "text": [
      "✅  part_type 수준 메타 출력 완료 → C:\\Users\\Allen\\Desktop\\Project\\TYM\\V_CODE\\data\\parsed_parts.csv\n"
     ]
    }
   ],
   "source": [
    "# csv 저장\n",
    "out_df = pd.DataFrame(rows)\n",
    "out_df.to_csv(OUT_CSV, index=False, encoding='cp949')\n",
    "print(f\"✅  part_type 수준 메타 출력 완료 → {OUT_CSV}\")"
   ]
  },
  {
   "cell_type": "code",
   "execution_count": 15,
   "id": "e8ebd3f4-5bf0-423d-948a-254aa20523df",
   "metadata": {},
   "outputs": [],
   "source": [
    "# utils/parsers.py 내부 -----------------------\n",
    "def split_vcode(code: str) -> dict:\n",
    "    \"\"\"\n",
    "    11자리 V‑Code를 파싱해 dict로 반환\n",
    "    \"\"\"\n",
    "    ptype = code[:4]     # V111\n",
    "    material = code[4:6]\n",
    "    surface  = code[6]\n",
    "    grade    = code[7]\n",
    "    size     = code[8:11]\n",
    "    return {\n",
    "        \"part_type\": ptype,\n",
    "        \"material_cd\": material,\n",
    "        \"surface_cd\": surface,\n",
    "        \"grade_cd\": grade,\n",
    "        \"size_cd\": size\n",
    "    }\n",
    "# --------------------------------------------"
   ]
  },
  {
   "cell_type": "code",
   "execution_count": null,
   "id": "50f64bef-9e20-4e3d-9018-aa2ef65b9376",
   "metadata": {},
   "outputs": [],
   "source": [
    "#split_vcode(\"V11101234567\")"
   ]
  },
  {
   "cell_type": "code",
   "execution_count": null,
   "id": "98e8cda2-dbeb-4463-a1a4-9f330f965dd5",
   "metadata": {},
   "outputs": [],
   "source": []
  }
 ],
 "metadata": {
  "kernelspec": {
   "display_name": "vcode_app",
   "language": "python",
   "name": "vcode_app"
  },
  "language_info": {
   "codemirror_mode": {
    "name": "ipython",
    "version": 3
   },
   "file_extension": ".py",
   "mimetype": "text/x-python",
   "name": "python",
   "nbconvert_exporter": "python",
   "pygments_lexer": "ipython3",
   "version": "3.11.13"
  },
  "widgets": {
   "application/vnd.jupyter.widget-state+json": {
    "state": {},
    "version_major": 2,
    "version_minor": 0
   }
  }
 },
 "nbformat": 4,
 "nbformat_minor": 5
}
